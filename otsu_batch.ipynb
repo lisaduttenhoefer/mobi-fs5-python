{
 "cells": [
  {
   "cell_type": "markdown",
   "metadata": {},
   "source": [
    "# [Lab Session 2](otsu.ipynb)"
   ]
  },
  {
   "cell_type": "code",
   "execution_count": 45,
   "metadata": {},
   "outputs": [],
   "source": [
    "import numpy as np\n",
    "import matplotlib.pyplot as plt"
   ]
  },
  {
   "cell_type": "markdown",
   "metadata": {},
   "source": [
    "**[Task 2.1.]()** Implement Otsu thresholding as a re-usable function:"
   ]
  },
  {
   "cell_type": "code",
   "execution_count": 50,
   "metadata": {},
   "outputs": [],
   "source": [
    "def otsu_thresholding(imgf):\n",
    "    img8 = (imgf * 255).round().astype(np.uint8)\n",
    "    T_pos_list = []\n",
    "    for T in range(0,256):       \n",
    "        T_opt = np.sum(img8 < T) * np.var(img8[img8 < T]) + np.sum(img8 >= T) * np.var(img8[img8 >= T])\n",
    "        T_pos_list.append(T_opt)\n",
    "\n",
    "    T_pos_list_onan = [x for x in T_pos_list if x is not None and not np.isnan(x)]\n",
    "    seg = T_pos_list.index(min(T_pos_list_onan))\n",
    "\n",
    "    return seg"
   ]
  },
  {
   "cell_type": "markdown",
   "metadata": {},
   "source": [
    "**[Task 2.2.]()** Implement a re-usable function to compute the Dice coefficient:"
   ]
  },
  {
   "cell_type": "code",
   "execution_count": 51,
   "metadata": {},
   "outputs": [],
   "source": [
    "# ein bin ist Bild das andere ist ground_truth?\n",
    "def compute_dice(bin1, bin2):\n",
    "    assert bin1.dtype == bool\n",
    "    assert bin2.dtype == bool\n",
    "    schnitt = bin1 * bin2\n",
    "    dice = (2*schnitt.sum())/(bin1.sum() + bin2.sum())\n",
    "    \n",
    "    return dice"
   ]
  },
  {
   "cell_type": "markdown",
   "metadata": {},
   "source": [
    "**[Task 2.3.]()** Test your implementations from above:"
   ]
  },
  {
   "cell_type": "code",
   "execution_count": 53,
   "metadata": {},
   "outputs": [
    {
     "name": "stdout",
     "output_type": "stream",
     "text": [
      "31\n",
      "0.8943783223933183\n"
     ]
    }
   ],
   "source": [
    "test_bild = plt.imread(\"data/NIH3T3/im/dna-0.png\")\n",
    "\n",
    "otsu_test_bild = otsu_thresholding(test_bild)\n",
    "print(otsu_test_bild) #auch 30 -> passt\n",
    "\n",
    "test_bild_scaled = (test_bild * 255).astype(np.uint8)        #erst richtig skalieren damit treshold damit Sinn ergibt\n",
    "test_bild_binarized = test_bild_scaled >= otsu_test_bild    #test bild binarizen mit dem neuen treshold\n",
    "\n",
    "ground_truth = plt.imread(\"data/NIH3T3/gt/0.png\")\n",
    "ground_truth_bin = ground_truth.astype(bool)\n",
    "\n",
    "\n",
    "dice_test_bild = compute_dice(test_bild_binarized, ground_truth_bin)\n",
    "print(dice_test_bild)"
   ]
  },
  {
   "cell_type": "markdown",
   "metadata": {},
   "source": [
    "The result should be the same as in your [otsu.ipynb](otsu.ipynb) notebook."
   ]
  },
  {
   "cell_type": "markdown",
   "metadata": {},
   "source": [
    "**[Task 2.4.]()** Perform batch processing:"
   ]
  },
  {
   "cell_type": "code",
   "execution_count": 54,
   "metadata": {},
   "outputs": [
    {
     "name": "stdout",
     "output_type": "stream",
     "text": [
      "0.7528567225654604\n",
      "0.647632667167185\n",
      "0.42998864378556173\n",
      "0.5789127665023891\n",
      "0.07605520913993832\n",
      "0.7965485556767932\n",
      "0.5469990941395547\n"
     ]
    }
   ],
   "source": [
    "dice_list = []\n",
    "for i in [28,29,33,44,46,49]:\n",
    "    bild_OI = plt.imread(f\"data/NIH3T3/im/dna-{i}.png\")\n",
    "    ground_truth_OI = plt.imread(f\"data/NIH3T3/gt/{i}.png\")\n",
    "    otsu_bild_OI = otsu_thresholding(bild_OI)\n",
    "\n",
    "    bild_OI_scaled = (bild_OI * 255).astype(np.uint8)        #erst richtig skalieren damit treshold damit Sinn ergibt\n",
    "    bild_OI_binarized = bild_OI_scaled >= otsu_bild_OI    #test bild binarizen mit dem neuen treshold\n",
    "\n",
    "    ground_truth_OI_bin = ground_truth_OI.astype(bool)\n",
    "\n",
    "    dice_bild_OI = compute_dice(bild_OI_binarized, ground_truth_OI_bin)\n",
    "    dice_list.append(dice_bild_OI)\n",
    "    print(dice_bild_OI)\n",
    "\n",
    "print(np.mean(dice_list))\n"
   ]
  }
 ],
 "metadata": {
  "kernelspec": {
   "display_name": "Python 3",
   "language": "python",
   "name": "python3"
  },
  "language_info": {
   "codemirror_mode": {
    "name": "ipython",
    "version": 3
   },
   "file_extension": ".py",
   "mimetype": "text/x-python",
   "name": "python",
   "nbconvert_exporter": "python",
   "pygments_lexer": "ipython3",
   "version": "3.12.7"
  }
 },
 "nbformat": 4,
 "nbformat_minor": 4
}
